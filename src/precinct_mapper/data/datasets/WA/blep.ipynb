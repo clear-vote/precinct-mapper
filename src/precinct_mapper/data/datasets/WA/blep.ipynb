{
 "cells": [
  {
   "cell_type": "code",
   "execution_count": 43,
   "metadata": {},
   "outputs": [],
   "source": [
    "import pandas as pd\n",
    "import geopandas as gpd\n",
    "from pathlib import Path\n",
    "import shutil"
   ]
  },
  {
   "cell_type": "code",
   "execution_count": 33,
   "metadata": {},
   "outputs": [],
   "source": [
    "directory = Path(\".\")"
   ]
  },
  {
   "cell_type": "code",
   "execution_count": 34,
   "metadata": {},
   "outputs": [
    {
     "data": {
      "text/plain": [
       "[PosixPath('city'),\n",
       " PosixPath('state'),\n",
       " PosixPath('county'),\n",
       " PosixPath('region_tables')]"
      ]
     },
     "execution_count": 34,
     "metadata": {},
     "output_type": "execute_result"
    }
   ],
   "source": [
    "[x for x in directory.iterdir() if x.is_dir()]"
   ]
  },
  {
   "cell_type": "code",
   "execution_count": 44,
   "metadata": {},
   "outputs": [],
   "source": [
    "region_tables_dir = Path(\"region_tables\")\n",
    "assert region_tables_dir.is_dir\n",
    "shutil.rmtree(region_tables_dir)\n",
    "\n",
    "region_tables_dir.mkdir()\n",
    "for scope in directory.iterdir():\n",
    "  if scope.is_dir() and scope.stem not in (\"state\", \"region_tables\"):\n",
    "    for region_name in scope.iterdir():\n",
    "      if region_name.is_dir():\n",
    "        for boundary in region_name.glob(\"*.gpkg\"):\n",
    "          boundary_outpath = region_tables_dir / f\"{ boundary.stem }.gpkg\"\n",
    "          table = None\n",
    "          new_boundary_table = gpd.read_file(boundary)\n",
    "          new_boundary_table[\"region_name\"] = region_name.stem\n",
    "          new_boundary_table[\"scope\"] = scope.stem\n",
    "          if boundary_outpath.exists():\n",
    "            existing_table = gpd.read_file(boundary_outpath)\n",
    "            tables = [existing_table, new_boundary_table]\n",
    "            table = gpd.GeoDataFrame(pd.concat(tables, ignore_index=True), crs=tables[0].crs)\n",
    "          else:\n",
    "            table = new_boundary_table\n",
    "          table.to_file(boundary_outpath)"
   ]
  },
  {
   "cell_type": "code",
   "execution_count": null,
   "metadata": {},
   "outputs": [],
   "source": []
  },
  {
   "cell_type": "code",
   "execution_count": 45,
   "metadata": {},
   "outputs": [
    {
     "data": {
      "text/html": [
       "<div>\n",
       "<style scoped>\n",
       "    .dataframe tbody tr th:only-of-type {\n",
       "        vertical-align: middle;\n",
       "    }\n",
       "\n",
       "    .dataframe tbody tr th {\n",
       "        vertical-align: top;\n",
       "    }\n",
       "\n",
       "    .dataframe thead th {\n",
       "        text-align: right;\n",
       "    }\n",
       "</style>\n",
       "<table border=\"1\" class=\"dataframe\">\n",
       "  <thead>\n",
       "    <tr style=\"text-align: right;\">\n",
       "      <th></th>\n",
       "      <th>id</th>\n",
       "      <th>name</th>\n",
       "      <th>region_name</th>\n",
       "      <th>scope</th>\n",
       "      <th>geometry</th>\n",
       "    </tr>\n",
       "  </thead>\n",
       "  <tbody>\n",
       "    <tr>\n",
       "      <th>0</th>\n",
       "      <td>1</td>\n",
       "      <td>cd - 1</td>\n",
       "      <td>seattle</td>\n",
       "      <td>city</td>\n",
       "      <td>MULTIPOLYGON (((-122.38710 47.59523, -122.3871...</td>\n",
       "    </tr>\n",
       "    <tr>\n",
       "      <th>1</th>\n",
       "      <td>2</td>\n",
       "      <td>cd - 2</td>\n",
       "      <td>seattle</td>\n",
       "      <td>city</td>\n",
       "      <td>POLYGON ((-122.28570 47.59026, -122.28569 47.5...</td>\n",
       "    </tr>\n",
       "    <tr>\n",
       "      <th>2</th>\n",
       "      <td>3</td>\n",
       "      <td>cd - 3</td>\n",
       "      <td>seattle</td>\n",
       "      <td>city</td>\n",
       "      <td>MULTIPOLYGON (((-122.32124 47.65231, -122.3211...</td>\n",
       "    </tr>\n",
       "    <tr>\n",
       "      <th>3</th>\n",
       "      <td>6</td>\n",
       "      <td>cd - 6</td>\n",
       "      <td>seattle</td>\n",
       "      <td>city</td>\n",
       "      <td>POLYGON ((-122.38943 47.70155, -122.38756 47.7...</td>\n",
       "    </tr>\n",
       "    <tr>\n",
       "      <th>4</th>\n",
       "      <td>4</td>\n",
       "      <td>cd - 4</td>\n",
       "      <td>seattle</td>\n",
       "      <td>city</td>\n",
       "      <td>POLYGON ((-122.27861 47.69162, -122.27843 47.6...</td>\n",
       "    </tr>\n",
       "    <tr>\n",
       "      <th>5</th>\n",
       "      <td>5</td>\n",
       "      <td>cd - 5</td>\n",
       "      <td>seattle</td>\n",
       "      <td>city</td>\n",
       "      <td>POLYGON ((-122.26660 47.69011, -122.26729 47.6...</td>\n",
       "    </tr>\n",
       "    <tr>\n",
       "      <th>6</th>\n",
       "      <td>7</td>\n",
       "      <td>cd - 7</td>\n",
       "      <td>seattle</td>\n",
       "      <td>city</td>\n",
       "      <td>POLYGON ((-122.37559 47.65774, -122.37543 47.6...</td>\n",
       "    </tr>\n",
       "  </tbody>\n",
       "</table>\n",
       "</div>"
      ],
      "text/plain": [
       "   id    name region_name scope  \\\n",
       "0   1  cd - 1     seattle  city   \n",
       "1   2  cd - 2     seattle  city   \n",
       "2   3  cd - 3     seattle  city   \n",
       "3   6  cd - 6     seattle  city   \n",
       "4   4  cd - 4     seattle  city   \n",
       "5   5  cd - 5     seattle  city   \n",
       "6   7  cd - 7     seattle  city   \n",
       "\n",
       "                                            geometry  \n",
       "0  MULTIPOLYGON (((-122.38710 47.59523, -122.3871...  \n",
       "1  POLYGON ((-122.28570 47.59026, -122.28569 47.5...  \n",
       "2  MULTIPOLYGON (((-122.32124 47.65231, -122.3211...  \n",
       "3  POLYGON ((-122.38943 47.70155, -122.38756 47.7...  \n",
       "4  POLYGON ((-122.27861 47.69162, -122.27843 47.6...  \n",
       "5  POLYGON ((-122.26660 47.69011, -122.26729 47.6...  \n",
       "6  POLYGON ((-122.37559 47.65774, -122.37543 47.6...  "
      ]
     },
     "execution_count": 45,
     "metadata": {},
     "output_type": "execute_result"
    }
   ],
   "source": [
    "gpd.read_file(\"region_tables/city_council_district.gpkg\")"
   ]
  },
  {
   "cell_type": "code",
   "execution_count": 26,
   "metadata": {},
   "outputs": [
    {
     "data": {
      "text/plain": [
       "'hi'"
      ]
     },
     "execution_count": 26,
     "metadata": {},
     "output_type": "execute_result"
    }
   ],
   "source": [
    "state_level_boundary_tables = {}\n",
    "regional_boundary_tables = {}\n",
    "\n",
    "precincts = gpd.read_file(\"./state/\")"
   ]
  },
  {
   "cell_type": "code",
   "execution_count": 29,
   "metadata": {},
   "outputs": [
    {
     "ename": "ImportError",
     "evalue": "attempted relative import with no known parent package",
     "output_type": "error",
     "traceback": [
      "\u001b[0;31m---------------------------------------------------------------------------\u001b[0m",
      "\u001b[0;31mImportError\u001b[0m                               Traceback (most recent call last)",
      "Cell \u001b[0;32mIn[29], line 1\u001b[0m\n\u001b[0;32m----> 1\u001b[0m \u001b[38;5;28;01mfrom\u001b[39;00m \u001b[38;5;21;01m.\u001b[39;00m\u001b[38;5;21;01m.\u001b[39;00m\u001b[38;5;21;01mfetcher\u001b[39;00m \u001b[38;5;28;01mimport\u001b[39;00m GeoJSONFetcher\n",
      "\u001b[0;31mImportError\u001b[0m: attempted relative import with no known parent package"
     ]
    }
   ],
   "source": [
    "from ..fetcher import GeoJSONFetcher"
   ]
  }
 ],
 "metadata": {
  "kernelspec": {
   "display_name": "precinct_dev",
   "language": "python",
   "name": "python3"
  },
  "language_info": {
   "codemirror_mode": {
    "name": "ipython",
    "version": 3
   },
   "file_extension": ".py",
   "mimetype": "text/x-python",
   "name": "python",
   "nbconvert_exporter": "python",
   "pygments_lexer": "ipython3",
   "version": "3.11.7"
  }
 },
 "nbformat": 4,
 "nbformat_minor": 2
}
